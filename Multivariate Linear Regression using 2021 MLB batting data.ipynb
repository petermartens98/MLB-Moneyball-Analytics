{
 "cells": [
  {
   "cell_type": "markdown",
   "id": "dc433154",
   "metadata": {},
   "source": [
    "# Multivariate Linear Regression using 2021 MLB batting data\n",
    "\n",
    "## Predict batting average from OBP and Hits\n",
    "\n",
    "## Import Neccesary Libraries"
   ]
  },
  {
   "cell_type": "code",
   "execution_count": 103,
   "id": "7d860e65",
   "metadata": {},
   "outputs": [],
   "source": [
    "import pandas as pd\n",
    "import numpy as np\n",
    "import matplotlib.pyplot as plt \n",
    "\n",
    "from sklearn.model_selection import train_test_split\n",
    "from sklearn.linear_model import LinearRegression\n",
    "from sklearn import preprocessing\n",
    "\n",
    "%matplotlib inline"
   ]
  },
  {
   "cell_type": "markdown",
   "id": "b42bcd72",
   "metadata": {},
   "source": [
    "## Import dataset CSV file; Set index to player; Sort based on team"
   ]
  },
  {
   "cell_type": "code",
   "execution_count": 104,
   "id": "09db698c",
   "metadata": {
    "scrolled": false
   },
   "outputs": [
    {
     "data": {
      "text/html": [
       "<div>\n",
       "<style scoped>\n",
       "    .dataframe tbody tr th:only-of-type {\n",
       "        vertical-align: middle;\n",
       "    }\n",
       "\n",
       "    .dataframe tbody tr th {\n",
       "        vertical-align: top;\n",
       "    }\n",
       "\n",
       "    .dataframe thead th {\n",
       "        text-align: right;\n",
       "    }\n",
       "</style>\n",
       "<table border=\"1\" class=\"dataframe\">\n",
       "  <thead>\n",
       "    <tr style=\"text-align: right;\">\n",
       "      <th></th>\n",
       "      <th></th>\n",
       "      <th>Pos</th>\n",
       "      <th>Age</th>\n",
       "      <th>G</th>\n",
       "      <th>AB</th>\n",
       "      <th>R</th>\n",
       "      <th>H</th>\n",
       "      <th>2B</th>\n",
       "      <th>3B</th>\n",
       "      <th>HR</th>\n",
       "      <th>RBI</th>\n",
       "      <th>...</th>\n",
       "      <th>CS</th>\n",
       "      <th>BB</th>\n",
       "      <th>SO</th>\n",
       "      <th>SH</th>\n",
       "      <th>SF</th>\n",
       "      <th>HBP</th>\n",
       "      <th>AVG</th>\n",
       "      <th>OBP</th>\n",
       "      <th>SLG</th>\n",
       "      <th>OPS</th>\n",
       "    </tr>\n",
       "    <tr>\n",
       "      <th>Team</th>\n",
       "      <th>Player</th>\n",
       "      <th></th>\n",
       "      <th></th>\n",
       "      <th></th>\n",
       "      <th></th>\n",
       "      <th></th>\n",
       "      <th></th>\n",
       "      <th></th>\n",
       "      <th></th>\n",
       "      <th></th>\n",
       "      <th></th>\n",
       "      <th></th>\n",
       "      <th></th>\n",
       "      <th></th>\n",
       "      <th></th>\n",
       "      <th></th>\n",
       "      <th></th>\n",
       "      <th></th>\n",
       "      <th></th>\n",
       "      <th></th>\n",
       "      <th></th>\n",
       "      <th></th>\n",
       "    </tr>\n",
       "  </thead>\n",
       "  <tbody>\n",
       "    <tr>\n",
       "      <th rowspan=\"5\" valign=\"top\">ARI</th>\n",
       "      <th>Andrew Young</th>\n",
       "      <td>2B</td>\n",
       "      <td>28</td>\n",
       "      <td>58</td>\n",
       "      <td>91</td>\n",
       "      <td>13</td>\n",
       "      <td>19</td>\n",
       "      <td>7</td>\n",
       "      <td>0</td>\n",
       "      <td>6</td>\n",
       "      <td>15</td>\n",
       "      <td>...</td>\n",
       "      <td>0</td>\n",
       "      <td>6</td>\n",
       "      <td>45</td>\n",
       "      <td>0</td>\n",
       "      <td>1</td>\n",
       "      <td>6</td>\n",
       "      <td>0.209</td>\n",
       "      <td>0.298</td>\n",
       "      <td>0.484</td>\n",
       "      <td>0.782</td>\n",
       "    </tr>\n",
       "    <tr>\n",
       "      <th>Asdrubal Cabrera</th>\n",
       "      <td>3B</td>\n",
       "      <td>36</td>\n",
       "      <td>90</td>\n",
       "      <td>283</td>\n",
       "      <td>34</td>\n",
       "      <td>69</td>\n",
       "      <td>21</td>\n",
       "      <td>0</td>\n",
       "      <td>7</td>\n",
       "      <td>40</td>\n",
       "      <td>...</td>\n",
       "      <td>0</td>\n",
       "      <td>33</td>\n",
       "      <td>73</td>\n",
       "      <td>0</td>\n",
       "      <td>3</td>\n",
       "      <td>2</td>\n",
       "      <td>0.244</td>\n",
       "      <td>0.324</td>\n",
       "      <td>0.392</td>\n",
       "      <td>0.716</td>\n",
       "    </tr>\n",
       "    <tr>\n",
       "      <th>Bryan Holaday</th>\n",
       "      <td>C</td>\n",
       "      <td>34</td>\n",
       "      <td>13</td>\n",
       "      <td>31</td>\n",
       "      <td>2</td>\n",
       "      <td>6</td>\n",
       "      <td>2</td>\n",
       "      <td>0</td>\n",
       "      <td>0</td>\n",
       "      <td>1</td>\n",
       "      <td>...</td>\n",
       "      <td>0</td>\n",
       "      <td>1</td>\n",
       "      <td>15</td>\n",
       "      <td>0</td>\n",
       "      <td>0</td>\n",
       "      <td>2</td>\n",
       "      <td>0.194</td>\n",
       "      <td>0.265</td>\n",
       "      <td>0.258</td>\n",
       "      <td>0.523</td>\n",
       "    </tr>\n",
       "    <tr>\n",
       "      <th>Carson Kelly</th>\n",
       "      <td>C</td>\n",
       "      <td>27</td>\n",
       "      <td>98</td>\n",
       "      <td>304</td>\n",
       "      <td>41</td>\n",
       "      <td>73</td>\n",
       "      <td>11</td>\n",
       "      <td>1</td>\n",
       "      <td>13</td>\n",
       "      <td>46</td>\n",
       "      <td>...</td>\n",
       "      <td>0</td>\n",
       "      <td>44</td>\n",
       "      <td>74</td>\n",
       "      <td>0</td>\n",
       "      <td>5</td>\n",
       "      <td>6</td>\n",
       "      <td>0.240</td>\n",
       "      <td>0.343</td>\n",
       "      <td>0.411</td>\n",
       "      <td>0.754</td>\n",
       "    </tr>\n",
       "    <tr>\n",
       "      <th>Christian Walker</th>\n",
       "      <td>1B</td>\n",
       "      <td>31</td>\n",
       "      <td>115</td>\n",
       "      <td>401</td>\n",
       "      <td>55</td>\n",
       "      <td>98</td>\n",
       "      <td>23</td>\n",
       "      <td>1</td>\n",
       "      <td>10</td>\n",
       "      <td>46</td>\n",
       "      <td>...</td>\n",
       "      <td>0</td>\n",
       "      <td>38</td>\n",
       "      <td>106</td>\n",
       "      <td>0</td>\n",
       "      <td>2</td>\n",
       "      <td>4</td>\n",
       "      <td>0.244</td>\n",
       "      <td>0.315</td>\n",
       "      <td>0.382</td>\n",
       "      <td>0.697</td>\n",
       "    </tr>\n",
       "  </tbody>\n",
       "</table>\n",
       "<p>5 rows × 21 columns</p>\n",
       "</div>"
      ],
      "text/plain": [
       "                      Pos  Age    G   AB   R   H  2B  3B  HR  RBI  ...  CS  \\\n",
       "Team Player                                                        ...       \n",
       "ARI  Andrew Young      2B   28   58   91  13  19   7   0   6   15  ...   0   \n",
       "     Asdrubal Cabrera  3B   36   90  283  34  69  21   0   7   40  ...   0   \n",
       "     Bryan Holaday      C   34   13   31   2   6   2   0   0    1  ...   0   \n",
       "     Carson Kelly       C   27   98  304  41  73  11   1  13   46  ...   0   \n",
       "     Christian Walker  1B   31  115  401  55  98  23   1  10   46  ...   0   \n",
       "\n",
       "                       BB   SO  SH  SF  HBP    AVG    OBP    SLG    OPS  \n",
       "Team Player                                                              \n",
       "ARI  Andrew Young       6   45   0   1    6  0.209  0.298  0.484  0.782  \n",
       "     Asdrubal Cabrera  33   73   0   3    2  0.244  0.324  0.392  0.716  \n",
       "     Bryan Holaday      1   15   0   0    2  0.194  0.265  0.258  0.523  \n",
       "     Carson Kelly      44   74   0   5    6  0.240  0.343  0.411  0.754  \n",
       "     Christian Walker  38  106   0   2    4  0.244  0.315  0.382  0.697  \n",
       "\n",
       "[5 rows x 21 columns]"
      ]
     },
     "execution_count": 104,
     "metadata": {},
     "output_type": "execute_result"
    }
   ],
   "source": [
    "df = pd.read_csv('2021MLBbattingStats.csv')\n",
    "df = df.set_index(['Team','Player'])\n",
    "df = df.sort_index()\n",
    "df.head()"
   ]
  },
  {
   "cell_type": "code",
   "execution_count": 105,
   "id": "dfeed80d",
   "metadata": {},
   "outputs": [
    {
     "data": {
      "text/plain": [
       "['Pos',\n",
       " 'Age',\n",
       " 'G',\n",
       " 'AB',\n",
       " 'R',\n",
       " 'H',\n",
       " '2B',\n",
       " '3B',\n",
       " 'HR',\n",
       " 'RBI',\n",
       " 'SB',\n",
       " 'CS',\n",
       " 'BB',\n",
       " 'SO',\n",
       " 'SH',\n",
       " 'SF',\n",
       " 'HBP',\n",
       " 'AVG',\n",
       " 'OBP',\n",
       " 'SLG',\n",
       " 'OPS']"
      ]
     },
     "execution_count": 105,
     "metadata": {},
     "output_type": "execute_result"
    }
   ],
   "source": [
    "list(df.columns)"
   ]
  },
  {
   "cell_type": "markdown",
   "id": "82715ecd",
   "metadata": {},
   "source": [
    "## Remove outliers"
   ]
  },
  {
   "cell_type": "code",
   "execution_count": null,
   "id": "4e85ce78",
   "metadata": {},
   "outputs": [],
   "source": []
  },
  {
   "cell_type": "markdown",
   "id": "e707cb46",
   "metadata": {},
   "source": [
    "## Define x and y"
   ]
  },
  {
   "cell_type": "code",
   "execution_count": 106,
   "id": "e8cae68f",
   "metadata": {},
   "outputs": [],
   "source": [
    "# x ~ independent variables ~ On base % and hits\n",
    "x = df[['OBP', 'H']].values\n",
    "\n",
    "# y ~ dependent variable\n",
    "y = df['AVG'].values"
   ]
  },
  {
   "cell_type": "markdown",
   "id": "c44bef7a",
   "metadata": {},
   "source": [
    "## Split dataset into training set and test set"
   ]
  },
  {
   "cell_type": "code",
   "execution_count": 107,
   "id": "42ff310b",
   "metadata": {},
   "outputs": [],
   "source": [
    "x_train, x_test, y_train, y_test = train_test_split(x, y, test_size=0.33, random_state=0)"
   ]
  },
  {
   "cell_type": "code",
   "execution_count": 108,
   "id": "faa401cc",
   "metadata": {},
   "outputs": [],
   "source": [
    "x_train = preprocessing.scale(x_train)\n",
    "x_test = preprocessing.scale(x_test)"
   ]
  },
  {
   "cell_type": "markdown",
   "id": "57940c5f",
   "metadata": {},
   "source": [
    "## Train model on the training set"
   ]
  },
  {
   "cell_type": "code",
   "execution_count": 109,
   "id": "26259a60",
   "metadata": {},
   "outputs": [
    {
     "data": {
      "text/plain": [
       "LinearRegression()"
      ]
     },
     "execution_count": 109,
     "metadata": {},
     "output_type": "execute_result"
    }
   ],
   "source": [
    "model=LinearRegression()\n",
    "model.fit(x_train, y_train)"
   ]
  },
  {
   "cell_type": "markdown",
   "id": "618ed3d7",
   "metadata": {},
   "source": [
    "## Predict test set results"
   ]
  },
  {
   "cell_type": "code",
   "execution_count": 110,
   "id": "d9f977e9",
   "metadata": {},
   "outputs": [],
   "source": [
    "y_pred=model.predict(x_test)"
   ]
  },
  {
   "cell_type": "markdown",
   "id": "1ba4c031",
   "metadata": {},
   "source": [
    "## Evaluate model "
   ]
  },
  {
   "cell_type": "code",
   "execution_count": 111,
   "id": "36ec204c",
   "metadata": {},
   "outputs": [
    {
     "data": {
      "text/plain": [
       "0.7403804733997226"
      ]
     },
     "execution_count": 111,
     "metadata": {},
     "output_type": "execute_result"
    }
   ],
   "source": [
    "from sklearn.metrics import r2_score\n",
    "r2_score(y_test,y_pred)"
   ]
  },
  {
   "cell_type": "markdown",
   "id": "7151271e",
   "metadata": {},
   "source": [
    "## Plot results"
   ]
  },
  {
   "cell_type": "code",
   "execution_count": 112,
   "id": "1d23a9c0",
   "metadata": {},
   "outputs": [
    {
     "data": {
      "text/plain": [
       "[<matplotlib.lines.Line2D at 0x1e9bd6f0280>]"
      ]
     },
     "execution_count": 112,
     "metadata": {},
     "output_type": "execute_result"
    },
    {
     "data": {
      "image/png": "[encoded data removed]",
      "text/plain": [
       "<Figure size 1080x720 with 1 Axes>"
      ]
     },
     "metadata": {
      "needs_background": "light"
     },
     "output_type": "display_data"
    }
   ],
   "source": [
    "plt.figure(figsize=(15,10))\n",
    "plt.scatter(y_test,y_pred, color = \"blue\", marker = \"+\")\n",
    "plt.xlabel('Actual AVG')\n",
    "plt.ylabel('Prediction AVG')\n",
    "plt.title('Actual AVG vs Prediction AVG')\n",
    "\n",
    "z = np.polyfit (y_test,y_pred,1)\n",
    "p = np.poly1d(z)\n",
    "plt.plot(y_test,p(y_test), color = \"red\")\n"
   ]
  },
  {
   "cell_type": "markdown",
   "id": "2147d992",
   "metadata": {},
   "source": [
    "## Actual values vs Predicted values"
   ]
  },
  {
   "cell_type": "code",
   "execution_count": 113,
   "id": "3dff4feb",
   "metadata": {},
   "outputs": [
    {
     "data": {
      "text/html": [
       "<div>\n",
       "<style scoped>\n",
       "    .dataframe tbody tr th:only-of-type {\n",
       "        vertical-align: middle;\n",
       "    }\n",
       "\n",
       "    .dataframe tbody tr th {\n",
       "        vertical-align: top;\n",
       "    }\n",
       "\n",
       "    .dataframe thead th {\n",
       "        text-align: right;\n",
       "    }\n",
       "</style>\n",
       "<table border=\"1\" class=\"dataframe\">\n",
       "  <thead>\n",
       "    <tr style=\"text-align: right;\">\n",
       "      <th></th>\n",
       "      <th>Actual Value</th>\n",
       "      <th>Predicted Value</th>\n",
       "      <th>Difference</th>\n",
       "    </tr>\n",
       "  </thead>\n",
       "  <tbody>\n",
       "    <tr>\n",
       "      <th>0</th>\n",
       "      <td>0.000</td>\n",
       "      <td>0.116378</td>\n",
       "      <td>-0.116378</td>\n",
       "    </tr>\n",
       "    <tr>\n",
       "      <th>1</th>\n",
       "      <td>0.285</td>\n",
       "      <td>0.261240</td>\n",
       "      <td>0.023760</td>\n",
       "    </tr>\n",
       "    <tr>\n",
       "      <th>2</th>\n",
       "      <td>0.220</td>\n",
       "      <td>0.223357</td>\n",
       "      <td>-0.003357</td>\n",
       "    </tr>\n",
       "    <tr>\n",
       "      <th>3</th>\n",
       "      <td>0.303</td>\n",
       "      <td>0.298775</td>\n",
       "      <td>0.004225</td>\n",
       "    </tr>\n",
       "    <tr>\n",
       "      <th>4</th>\n",
       "      <td>0.247</td>\n",
       "      <td>0.233042</td>\n",
       "      <td>0.013958</td>\n",
       "    </tr>\n",
       "    <tr>\n",
       "      <th>5</th>\n",
       "      <td>0.254</td>\n",
       "      <td>0.269175</td>\n",
       "      <td>-0.015175</td>\n",
       "    </tr>\n",
       "    <tr>\n",
       "      <th>6</th>\n",
       "      <td>0.357</td>\n",
       "      <td>0.233555</td>\n",
       "      <td>0.123445</td>\n",
       "    </tr>\n",
       "    <tr>\n",
       "      <th>7</th>\n",
       "      <td>0.261</td>\n",
       "      <td>0.271138</td>\n",
       "      <td>-0.010138</td>\n",
       "    </tr>\n",
       "    <tr>\n",
       "      <th>8</th>\n",
       "      <td>0.150</td>\n",
       "      <td>0.142767</td>\n",
       "      <td>0.007233</td>\n",
       "    </tr>\n",
       "    <tr>\n",
       "      <th>9</th>\n",
       "      <td>0.119</td>\n",
       "      <td>0.178523</td>\n",
       "      <td>-0.059523</td>\n",
       "    </tr>\n",
       "    <tr>\n",
       "      <th>10</th>\n",
       "      <td>0.249</td>\n",
       "      <td>0.229355</td>\n",
       "      <td>0.019645</td>\n",
       "    </tr>\n",
       "    <tr>\n",
       "      <th>11</th>\n",
       "      <td>0.265</td>\n",
       "      <td>0.257993</td>\n",
       "      <td>0.007007</td>\n",
       "    </tr>\n",
       "    <tr>\n",
       "      <th>12</th>\n",
       "      <td>0.256</td>\n",
       "      <td>0.248377</td>\n",
       "      <td>0.007623</td>\n",
       "    </tr>\n",
       "    <tr>\n",
       "      <th>13</th>\n",
       "      <td>0.282</td>\n",
       "      <td>0.265706</td>\n",
       "      <td>0.016294</td>\n",
       "    </tr>\n",
       "    <tr>\n",
       "      <th>14</th>\n",
       "      <td>0.273</td>\n",
       "      <td>0.261379</td>\n",
       "      <td>0.011621</td>\n",
       "    </tr>\n",
       "    <tr>\n",
       "      <th>15</th>\n",
       "      <td>0.173</td>\n",
       "      <td>0.223653</td>\n",
       "      <td>-0.050653</td>\n",
       "    </tr>\n",
       "    <tr>\n",
       "      <th>16</th>\n",
       "      <td>0.267</td>\n",
       "      <td>0.247726</td>\n",
       "      <td>0.019274</td>\n",
       "    </tr>\n",
       "    <tr>\n",
       "      <th>17</th>\n",
       "      <td>0.217</td>\n",
       "      <td>0.219834</td>\n",
       "      <td>-0.002834</td>\n",
       "    </tr>\n",
       "    <tr>\n",
       "      <th>18</th>\n",
       "      <td>0.189</td>\n",
       "      <td>0.208996</td>\n",
       "      <td>-0.019996</td>\n",
       "    </tr>\n",
       "    <tr>\n",
       "      <th>19</th>\n",
       "      <td>0.262</td>\n",
       "      <td>0.228816</td>\n",
       "      <td>0.033184</td>\n",
       "    </tr>\n",
       "    <tr>\n",
       "      <th>20</th>\n",
       "      <td>0.224</td>\n",
       "      <td>0.243119</td>\n",
       "      <td>-0.019119</td>\n",
       "    </tr>\n",
       "    <tr>\n",
       "      <th>21</th>\n",
       "      <td>0.000</td>\n",
       "      <td>0.039226</td>\n",
       "      <td>-0.039226</td>\n",
       "    </tr>\n",
       "    <tr>\n",
       "      <th>22</th>\n",
       "      <td>0.242</td>\n",
       "      <td>0.246801</td>\n",
       "      <td>-0.004801</td>\n",
       "    </tr>\n",
       "    <tr>\n",
       "      <th>23</th>\n",
       "      <td>0.227</td>\n",
       "      <td>0.237951</td>\n",
       "      <td>-0.010951</td>\n",
       "    </tr>\n",
       "    <tr>\n",
       "      <th>24</th>\n",
       "      <td>0.256</td>\n",
       "      <td>0.225763</td>\n",
       "      <td>0.030237</td>\n",
       "    </tr>\n",
       "  </tbody>\n",
       "</table>\n",
       "</div>"
      ],
      "text/plain": [
       "    Actual Value  Predicted Value  Difference\n",
       "0          0.000         0.116378   -0.116378\n",
       "1          0.285         0.261240    0.023760\n",
       "2          0.220         0.223357   -0.003357\n",
       "3          0.303         0.298775    0.004225\n",
       "4          0.247         0.233042    0.013958\n",
       "5          0.254         0.269175   -0.015175\n",
       "6          0.357         0.233555    0.123445\n",
       "7          0.261         0.271138   -0.010138\n",
       "8          0.150         0.142767    0.007233\n",
       "9          0.119         0.178523   -0.059523\n",
       "10         0.249         0.229355    0.019645\n",
       "11         0.265         0.257993    0.007007\n",
       "12         0.256         0.248377    0.007623\n",
       "13         0.282         0.265706    0.016294\n",
       "14         0.273         0.261379    0.011621\n",
       "15         0.173         0.223653   -0.050653\n",
       "16         0.267         0.247726    0.019274\n",
       "17         0.217         0.219834   -0.002834\n",
       "18         0.189         0.208996   -0.019996\n",
       "19         0.262         0.228816    0.033184\n",
       "20         0.224         0.243119   -0.019119\n",
       "21         0.000         0.039226   -0.039226\n",
       "22         0.242         0.246801   -0.004801\n",
       "23         0.227         0.237951   -0.010951\n",
       "24         0.256         0.225763    0.030237"
      ]
     },
     "execution_count": 113,
     "metadata": {},
     "output_type": "execute_result"
    }
   ],
   "source": [
    "pred_y_df = pd.DataFrame({'Actual Value':y_test, 'Predicted Value':y_pred, 'Difference':y_test-y_pred})\n",
    "pred_y_df[0:25]"
   ]
  },
  {
   "cell_type": "code",
   "execution_count": null,
   "id": "a530a444",
   "metadata": {},
   "outputs": [],
   "source": []
  }
 ],
 "metadata": {
  "kernelspec": {
   "display_name": "Python 3 (ipykernel)",
   "language": "python",
   "name": "python3"
  },
  "language_info": {
   "codemirror_mode": {
    "name": "ipython",
    "version": 3
   },
   "file_extension": ".py",
   "mimetype": "text/x-python",
   "name": "python",
   "nbconvert_exporter": "python",
   "pygments_lexer": "ipython3",
   "version": "3.9.12"
  }
 },
 "nbformat": 4,
 "nbformat_minor": 5
}
